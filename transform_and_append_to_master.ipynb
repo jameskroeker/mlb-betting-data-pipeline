{
  "nbformat": 4,
  "nbformat_minor": 0,
  "metadata": {
    "colab": {
      "provenance": []
    },
    "kernelspec": {
      "name": "python3",
      "display_name": "Python 3"
    },
    "language_info": {
      "name": "python"
    }
  },
  "cells": [
    {
      "cell_type": "code",
      "execution_count": null,
      "metadata": {
        "id": "Y4P7f7KrZR-h"
      },
      "outputs": [],
      "source": []
    },
    {
      "cell_type": "code",
      "source": [
        "import pandas as pd\n",
        "import os\n",
        "\n",
        "# === File Config ===\n",
        "daily_file = \"MLB_Combined_Odds_Results_2025-05-07.csv\"\n",
        "abbrev_file = \"MLB_Teams_Template.xlsx\"\n",
        "master_file = \"master_template.parquet\"\n",
        "\n",
        "# === Load Game-Level File and Team Abbreviations ===\n",
        "df = pd.read_csv(daily_file)\n",
        "abbrev_df = pd.read_excel(abbrev_file).rename(columns={\"City and Team\": \"team_name\", \"Abbreviation\": \"team_abbr\"})\n",
        "abbrev_map = dict(zip(abbrev_df[\"team_name\"], abbrev_df[\"team_abbr\"]))\n",
        "\n",
        "# === Transform to Team-Level Rows ===\n",
        "team_rows = []\n",
        "\n",
        "for _, row in df.iterrows():\n",
        "    if pd.isna(row[\"home_score\"]) or pd.isna(row[\"away_score\"]):\n",
        "        continue\n",
        "\n",
        "    total_score = row[\"home_score\"] + row[\"away_score\"]\n",
        "    hit_over = total_score > row[\"total_line\"] if pd.notna(row[\"total_line\"]) else None\n",
        "\n",
        "    for team_type in [\"home\", \"away\"]:\n",
        "        is_home = team_type == \"home\"\n",
        "        team = row[f\"{team_type}_team\"]\n",
        "        opponent = row[f\"{'away' if is_home else 'home'}_team\"]\n",
        "        team_score = row[f\"{team_type}_score\"]\n",
        "        opp_score = row[f\"{'away' if is_home else 'home'}_score\"]\n",
        "        moneyline = row[f\"moneyline_{team_type}\"]\n",
        "\n",
        "        row_data = {\n",
        "            \"game_id\": row[\"game_id\"],\n",
        "            \"game_date_et\": pd.to_datetime(row[\"game_date\"]),\n",
        "            \"start_time_et\": pd.to_datetime(row[\"start_time_et\"]),\n",
        "            \"team\": team,\n",
        "            \"team_abbr\": abbrev_map.get(team),\n",
        "            \"opponent\": opponent,\n",
        "            \"opponent_abbr\": abbrev_map.get(opponent),\n",
        "            \"is_home\": is_home,\n",
        "            \"home_score\": row[\"home_score\"],\n",
        "            \"away_score\": row[\"away_score\"],\n",
        "            \"run_diff\": team_score - opp_score,\n",
        "            \"won_game\": team_score > opp_score,\n",
        "            \"hit_over\": hit_over,\n",
        "            \"team_streak\": None,\n",
        "            \"Wins\": None,\n",
        "            \"Losses\": None,\n",
        "            \"Win_Pct\": None,\n",
        "            \"Win_Streak\": None,\n",
        "            \"Loss_Streak\": None,\n",
        "            \"merge_key\": f\"{team}_{row['game_date']}\",\n",
        "            \"team_odds\": moneyline,\n",
        "            \"opponent_odds\": row[f\"moneyline_{'away' if is_home else 'home'}\"],\n",
        "            \"is_home_odds\": is_home,\n",
        "            \"Run_Line\": None,\n",
        "            \"Spread_Price\": None,\n",
        "            \"Opp_Spread_Price\": None,\n",
        "            \"Total\": row[\"total_line\"],\n",
        "            \"Over_Price\": row[\"over_odds\"],\n",
        "            \"Under_Price\": row[\"under_odds\"],\n",
        "            \"h2h_own\": None,\n",
        "            \"h2h_opp\": None,\n",
        "            \"team_abbr_odds\": abbrev_map.get(team),\n",
        "            \"opponent_abbr_odds\": abbrev_map.get(opponent)\n",
        "        }\n",
        "\n",
        "        # Add innings (preserve full 1–9 view)\n",
        "        for i in range(1, 10):\n",
        "            row_data[f\"home_{i}\"] = row.get(f\"home_{i}\")\n",
        "            row_data[f\"away_{i}\"] = row.get(f\"away_{i}\")\n",
        "\n",
        "        team_rows.append(row_data)\n",
        "\n",
        "# === Create DataFrame\n",
        "team_df = pd.DataFrame(team_rows)\n",
        "\n",
        "# === Append to Master Parquet ===\n",
        "if os.path.exists(master_file):\n",
        "    master_df = pd.read_parquet(master_file)\n",
        "    master_df[\"game_date_et\"] = pd.to_datetime(master_df[\"game_date_et\"])\n",
        "    master_df[\"start_time_et\"] = pd.to_datetime(master_df[\"start_time_et\"])\n",
        "    combined_df = pd.concat([master_df, team_df], ignore_index=True)\n",
        "else:\n",
        "    combined_df = team_df\n",
        "\n",
        "# === Ensure consistent data types\n",
        "combined_df[\"team_odds\"] = pd.to_numeric(combined_df[\"team_odds\"], errors=\"coerce\")\n",
        "combined_df[\"opponent_odds\"] = pd.to_numeric(combined_df[\"opponent_odds\"], errors=\"coerce\")\n",
        "combined_df[\"Over_Price\"] = pd.to_numeric(combined_df[\"Over_Price\"], errors=\"coerce\")\n",
        "combined_df[\"Under_Price\"] = pd.to_numeric(combined_df[\"Under_Price\"], errors=\"coerce\")\n",
        "combined_df[\"Total\"] = pd.to_numeric(combined_df[\"Total\"], errors=\"coerce\")\n",
        "combined_df[\"run_diff\"] = pd.to_numeric(combined_df[\"run_diff\"], errors=\"coerce\")\n",
        "\n",
        "\n",
        "combined_df.to_parquet(master_file, index=False)\n",
        "print(f\"✅ Appended {len(team_df)} team-level rows to: {master_file}\")\n"
      ],
      "metadata": {
        "colab": {
          "base_uri": "https://localhost:8080/"
        },
        "id": "s54o0SoeTEDh",
        "outputId": "8ff2b5ef-fdd3-4c26-abf1-82d2817d3645"
      },
      "execution_count": null,
      "outputs": [
        {
          "output_type": "stream",
          "name": "stdout",
          "text": [
            "✅ Appended 30 team-level rows to: master_template.parquet\n"
          ]
        },
        {
          "output_type": "stream",
          "name": "stderr",
          "text": [
            "<ipython-input-12-261eb1546d29>:83: FutureWarning: The behavior of DataFrame concatenation with empty or all-NA entries is deprecated. In a future version, this will no longer exclude empty or all-NA columns when determining the result dtypes. To retain the old behavior, exclude the relevant entries before the concat operation.\n",
            "  combined_df = pd.concat([master_df, team_df], ignore_index=True)\n"
          ]
        }
      ]
    }
  ]
}